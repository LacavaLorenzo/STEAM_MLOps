{
 "cells": [
  {
   "cell_type": "markdown",
   "metadata": {},
   "source": [
    "DATASETS ARMADOS POR SEPARADO, PARA ACELERAR CONSULTAS\n"
   ]
  },
  {
   "cell_type": "markdown",
   "metadata": {},
   "source": [
    "ANÁLISIS DE SENTIMIENTOS + MACHINE LEARNING\n"
   ]
  },
  {
   "cell_type": "markdown",
   "metadata": {},
   "source": [
    "importar librerias\n"
   ]
  },
  {
   "cell_type": "code",
   "execution_count": 2,
   "metadata": {},
   "outputs": [],
   "source": [
    "import pandas as pd  # Pandas se utiliza para el manejo y análisis de datos tabulares\n",
    "import pyarrow as pa  # PyArrow se utiliza para trabajar con formatos de datos columnares y eficientes como Parquet\n",
    "import pyarrow.parquet as pq  # Importamos Parquet\n",
    "\n",
    "import ast  # AST (Abstract Syntax Trees) se utiliza para interpretar expresiones Python\n",
    "import gzip\n",
    "import json  # JSON se utiliza para trabajar con datos en formato JSON\n",
    "import os  # OS proporciona funciones para interactuar con el sistema oper\n",
    "from typing import List, Tuple\n",
    "# Importación del módulo gc para la recolección de basura\n",
    "import gc\n",
    "\n",
    "# Importación del módulo pickle para la serialización de objetos\n",
    "import pickle\n",
    "\n",
    "# Importación del módulo warnings para controlar advertencias\n",
    "import warnings\n",
    "\n",
    "# Importación de pandas y se asigna el alias 'pd' para su uso\n",
    "import pandas as pd"
   ]
  },
  {
   "cell_type": "markdown",
   "metadata": {},
   "source": [
    "Llamar a los datasets que creamos anteriormente"
   ]
  },
  {
   "cell_type": "code",
   "execution_count": 3,
   "metadata": {},
   "outputs": [],
   "source": [
    "df_steam_games =   pd.read_parquet('Datasets\\pdf_SteamGames.parquet')\n",
    "df_user_reviews = pd.read_parquet(r'Datasets\\new_user_reviews.parquet')\n",
    "df_user_items = pd.read_parquet(r'Datasets\\new_df_users_items.parquet')\n"
   ]
  },
  {
   "cell_type": "markdown",
   "metadata": {},
   "source": [
    "Realizamos la primera consulta: \"def developer( desarrollador : str ): Cantidad de items y porcentaje de contenido Free por año según empresa desarrolladora\""
   ]
  },
  {
   "cell_type": "code",
   "execution_count": 4,
   "metadata": {},
   "outputs": [
    {
     "name": "stdout",
     "output_type": "stream",
     "text": [
      " Año  Cantidad de Items Contenido Free\n",
      "1998                  1           0.0%\n",
      "1999                  1           0.0%\n",
      "2000                  2           0.0%\n",
      "2001                  1           0.0%\n",
      "2003                  1           0.0%\n",
      "2004                  5           0.0%\n",
      "2006                  2           0.0%\n",
      "2007                  3         33.33%\n",
      "2008                  1           0.0%\n",
      "2009                  1           0.0%\n",
      "2010                  2          50.0%\n",
      "2011                  1           0.0%\n",
      "2012                  1           0.0%\n",
      "2016                  1         100.0%\n",
      "2017                  2           0.0%\n"
     ]
    }
   ],
   "source": [
    "def developer(desarrollador:str):\n",
    "    # Filtrar por desarrollador\n",
    "    df_dev = df_steam_games[df_steam_games['developer'] == desarrollador]\n",
    "    \n",
    "    # Obtener la cantidad de ítems por año\n",
    "    items_por_anio = df_dev.groupby('release_date').size()\n",
    "    \n",
    "    # Obtener el porcentaje de contenido Free por año\n",
    "    contenido_free_por_anio = df_dev[df_dev['price'] == 0].groupby('release_date').size()\n",
    "    porcentaje_free_por_anio = (contenido_free_por_anio / items_por_anio * 100).round(2)\n",
    "    \n",
    "    # Reemplazar valores NaN en \"Contenido Free\" con \"0%\"\n",
    "    porcentaje_free_por_anio.fillna(0, inplace=True)\n",
    "    \n",
    "    # Crear un DataFrame con los resultados\n",
    "    result_df = pd.DataFrame({'Año': items_por_anio.index,\n",
    "                              'Cantidad de Items': items_por_anio.values,\n",
    "                              'Contenido Free': porcentaje_free_por_anio.values})\n",
    "    \n",
    "    # Ordenar el DataFrame por año\n",
    "    result_df = result_df.sort_values(by='Año').reset_index(drop=True)\n",
    "    \n",
    "    # Formatear los valores en la columna \"Contenido Free\"\n",
    "    result_df['Contenido Free'] = result_df['Contenido Free'].astype(str) + '%'\n",
    "    \n",
    "    # Imprimir el DataFrame formateado\n",
    "    print(result_df.to_string(index=False))\n",
    "\n",
    "# Ejemplo de uso de la función developer\n",
    "developer('Valve')"
   ]
  },
  {
   "cell_type": "markdown",
   "metadata": {},
   "source": [
    "Ahora, para la segunda consulta, debemos crear un nuevo dataframe que combine varias columnas clave para realizarla. \"def userdata( User_id : str ): Debe devolver cantidad de dinero gastado por el usuario, el porcentaje de recomendación en base a reviews.recommend y cantidad de items.\""
   ]
  },
  {
   "cell_type": "code",
   "execution_count": 5,
   "metadata": {},
   "outputs": [
    {
     "name": "stdout",
     "output_type": "stream",
     "text": [
      "              user_id   item_id  price  items_count  recommend  \\\n",
      "0        InstigatorAU  282010.0   9.99          112       True   \n",
      "1  EizanAratoFujimaki      70.0   9.99          391       True   \n",
      "2            GamerFag      70.0   9.99           64       True   \n",
      "3   76561198020928326      70.0   9.99          110       True   \n",
      "4           Bluegills      70.0   9.99         1280       True   \n",
      "\n",
      "                                              review  \n",
      "0                       Oh, where do i start? DOS...  \n",
      "1  ADVERTENCIA:Este Análisis contiene posibles Sp...  \n",
      "2  If you own any half life but not this one that...  \n",
      "3  this game has had me hooked for over 4 years a...  \n",
      "4  This is, by far my most favourite game I have ...  \n"
     ]
    }
   ],
   "source": [
    "# Fusionar los tres DataFrames basados en las columnas 'id', 'item_id' e 'item_id'\n",
    "merged_df = pd.merge(df_steam_games, df_user_items, left_on=['id', 'app_name'], right_on=['item_id', 'item_name'])\n",
    "merged_df = pd.merge(merged_df, df_user_reviews, left_on=['user_id', 'item_id'], right_on=['user_id', 'item_id'])\n",
    "\n",
    "# Seleccionar solo las columnas necesarias para procesar el pedido\n",
    "df_segunda_consulta = merged_df[['user_id','item_id', 'price', 'items_count', 'recommend', 'review']]\n",
    "\n",
    "# Mostrar las primeras filas del nuevo DataFrame para verificar\n",
    "print(df_segunda_consulta.head())"
   ]
  },
  {
   "cell_type": "markdown",
   "metadata": {},
   "source": [
    "Con este nuevo dataframe, podremos realizar la consulta tranquilamente."
   ]
  },
  {
   "cell_type": "code",
   "execution_count": 6,
   "metadata": {},
   "outputs": [],
   "source": [
    "df_segunda_consulta.to_parquet('Datasets/df_segunda_consulta.parquet')"
   ]
  },
  {
   "cell_type": "code",
   "execution_count": 7,
   "metadata": {},
   "outputs": [],
   "source": [
    "def userdata(User_id: str):\n",
    "    # Filtrar el DataFrame para obtener las filas correspondientes al User_id dado\n",
    "    user_data = df_segunda_consulta[df_segunda_consulta['user_id'] == User_id]\n",
    "    \n",
    "    # Calcular la cantidad total de dinero gastado por el usuario\n",
    "    money_spent = user_data['price'].sum()\n",
    "    \n",
    "    # Calcular el porcentaje de recomendación en base a las revisiones\n",
    "    recommend_percentage = (user_data['recommend'].mean()) * 100\n",
    "    \n",
    "    # Obtener la cantidad de items del usuario\n",
    "    items_count = user_data['items_count'].sum()\n",
    "    \n",
    "    # Retornar un diccionario con los resultados\n",
    "    return {\n",
    "        \"Usuario\": User_id,\n",
    "        \"Dinero gastado\": f\"{money_spent} USD\",\n",
    "        \"% de recomendación\": f\"{recommend_percentage}%\",\n",
    "        \"Cantidad de items\": items_count\n",
    "    }"
   ]
  },
  {
   "cell_type": "code",
   "execution_count": 8,
   "metadata": {},
   "outputs": [
    {
     "name": "stdout",
     "output_type": "stream",
     "text": [
      "{'Usuario': 'zerzang', 'Dinero gastado': '84.94 USD', '% de recomendación': '80.0%', 'Cantidad de items': 600}\n"
     ]
    }
   ],
   "source": [
    "print(userdata(\"zerzang\"))"
   ]
  },
  {
   "cell_type": "markdown",
   "metadata": {},
   "source": [
    "Ahora, pasamos a la tercera consulta: \"def UserForGenre( genero : str ): Debe devolver el usuario que acumula más horas jugadas para el género dado y una lista de la acumulación de horas jugadas por año de lanzamiento.\n",
    "Ejemplo de retorno: {\"Usuario con más horas jugadas para Género X\" : us213ndjss09sdf, \"Horas jugadas\":[{Año: 2013, Horas: 203}, {Año: 2012, Horas: 100}, {Año: 2011, Horas: 23}]}\""
   ]
  },
  {
   "cell_type": "code",
   "execution_count": 9,
   "metadata": {},
   "outputs": [],
   "source": [
    "tercer_merged_df = pd.merge(df_steam_games, df_user_items, left_on=['id', 'app_name'], right_on=['item_id', 'item_name'])\n",
    "tercer_merged_df_final = pd.merge(tercer_merged_df, df_user_reviews, left_on=['user_id', 'item_id'], right_on=['user_id', 'item_id'])\n",
    "# Seleccionar solo las columnas necesarias para procesar el pedido\n",
    "df_tercera_consulta = tercer_merged_df_final[['user_id','item_id', 'genres', 'playtime_forever', 'year',]]"
   ]
  },
  {
   "cell_type": "code",
   "execution_count": 10,
   "metadata": {},
   "outputs": [
    {
     "name": "stdout",
     "output_type": "stream",
     "text": [
      "              user_id   item_id  \\\n",
      "0        InstigatorAU  282010.0   \n",
      "1  EizanAratoFujimaki      70.0   \n",
      "2            GamerFag      70.0   \n",
      "3   76561198020928326      70.0   \n",
      "4           Bluegills      70.0   \n",
      "\n",
      "                                              genres  playtime_forever  year  \n",
      "0  ['Action', 'Indie', 'Racing'], ['Racing', 'Cla...               466  2014  \n",
      "1  ['Action'], ['FPS', 'Classic', 'Sci-fi', 'Sing...              1395  2015  \n",
      "2  ['Action'], ['FPS', 'Classic', 'Sci-fi', 'Sing...               590  2011  \n",
      "3  ['Action'], ['FPS', 'Classic', 'Sci-fi', 'Sing...              5599  2014  \n",
      "4  ['Action'], ['FPS', 'Classic', 'Sci-fi', 'Sing...                64  2013  \n"
     ]
    },
    {
     "data": {
      "text/html": [
       "<div>\n",
       "<style scoped>\n",
       "    .dataframe tbody tr th:only-of-type {\n",
       "        vertical-align: middle;\n",
       "    }\n",
       "\n",
       "    .dataframe tbody tr th {\n",
       "        vertical-align: top;\n",
       "    }\n",
       "\n",
       "    .dataframe thead th {\n",
       "        text-align: right;\n",
       "    }\n",
       "</style>\n",
       "<table border=\"1\" class=\"dataframe\">\n",
       "  <thead>\n",
       "    <tr style=\"text-align: right;\">\n",
       "      <th></th>\n",
       "      <th>user_id</th>\n",
       "      <th>item_id</th>\n",
       "      <th>genres</th>\n",
       "      <th>playtime_forever</th>\n",
       "      <th>year</th>\n",
       "    </tr>\n",
       "  </thead>\n",
       "  <tbody>\n",
       "    <tr>\n",
       "      <th>0</th>\n",
       "      <td>InstigatorAU</td>\n",
       "      <td>282010.0</td>\n",
       "      <td>['Action', 'Indie', 'Racing'], ['Racing', 'Cla...</td>\n",
       "      <td>466</td>\n",
       "      <td>2014</td>\n",
       "    </tr>\n",
       "    <tr>\n",
       "      <th>1</th>\n",
       "      <td>EizanAratoFujimaki</td>\n",
       "      <td>70.0</td>\n",
       "      <td>['Action'], ['FPS', 'Classic', 'Sci-fi', 'Sing...</td>\n",
       "      <td>1395</td>\n",
       "      <td>2015</td>\n",
       "    </tr>\n",
       "    <tr>\n",
       "      <th>2</th>\n",
       "      <td>GamerFag</td>\n",
       "      <td>70.0</td>\n",
       "      <td>['Action'], ['FPS', 'Classic', 'Sci-fi', 'Sing...</td>\n",
       "      <td>590</td>\n",
       "      <td>2011</td>\n",
       "    </tr>\n",
       "    <tr>\n",
       "      <th>3</th>\n",
       "      <td>76561198020928326</td>\n",
       "      <td>70.0</td>\n",
       "      <td>['Action'], ['FPS', 'Classic', 'Sci-fi', 'Sing...</td>\n",
       "      <td>5599</td>\n",
       "      <td>2014</td>\n",
       "    </tr>\n",
       "    <tr>\n",
       "      <th>4</th>\n",
       "      <td>Bluegills</td>\n",
       "      <td>70.0</td>\n",
       "      <td>['Action'], ['FPS', 'Classic', 'Sci-fi', 'Sing...</td>\n",
       "      <td>64</td>\n",
       "      <td>2013</td>\n",
       "    </tr>\n",
       "    <tr>\n",
       "      <th>...</th>\n",
       "      <td>...</td>\n",
       "      <td>...</td>\n",
       "      <td>...</td>\n",
       "      <td>...</td>\n",
       "      <td>...</td>\n",
       "    </tr>\n",
       "    <tr>\n",
       "      <th>31786</th>\n",
       "      <td>76561198015050660</td>\n",
       "      <td>80.0</td>\n",
       "      <td>['Action'], 'FPS', 'Shooter', 'Multiplayer', '...</td>\n",
       "      <td>2416</td>\n",
       "      <td>2014</td>\n",
       "    </tr>\n",
       "    <tr>\n",
       "      <th>31787</th>\n",
       "      <td>76561198023508728</td>\n",
       "      <td>80.0</td>\n",
       "      <td>['Action'], 'FPS', 'Shooter', 'Multiplayer', '...</td>\n",
       "      <td>15</td>\n",
       "      <td>2014</td>\n",
       "    </tr>\n",
       "    <tr>\n",
       "      <th>31788</th>\n",
       "      <td>green290</td>\n",
       "      <td>80.0</td>\n",
       "      <td>['Action'], 'FPS', 'Shooter', 'Multiplayer', '...</td>\n",
       "      <td>442</td>\n",
       "      <td>2015</td>\n",
       "    </tr>\n",
       "    <tr>\n",
       "      <th>31789</th>\n",
       "      <td>174gamecuman700kngkakak</td>\n",
       "      <td>80.0</td>\n",
       "      <td>['Action'], 'FPS', 'Shooter', 'Multiplayer', '...</td>\n",
       "      <td>72</td>\n",
       "      <td>2014</td>\n",
       "    </tr>\n",
       "    <tr>\n",
       "      <th>31790</th>\n",
       "      <td>lachwe</td>\n",
       "      <td>80.0</td>\n",
       "      <td>['Action'], 'FPS', 'Shooter', 'Multiplayer', '...</td>\n",
       "      <td>62</td>\n",
       "      <td>2015</td>\n",
       "    </tr>\n",
       "  </tbody>\n",
       "</table>\n",
       "<p>31791 rows × 5 columns</p>\n",
       "</div>"
      ],
      "text/plain": [
       "                       user_id   item_id  \\\n",
       "0                 InstigatorAU  282010.0   \n",
       "1           EizanAratoFujimaki      70.0   \n",
       "2                     GamerFag      70.0   \n",
       "3            76561198020928326      70.0   \n",
       "4                    Bluegills      70.0   \n",
       "...                        ...       ...   \n",
       "31786        76561198015050660      80.0   \n",
       "31787        76561198023508728      80.0   \n",
       "31788                 green290      80.0   \n",
       "31789  174gamecuman700kngkakak      80.0   \n",
       "31790                   lachwe      80.0   \n",
       "\n",
       "                                                  genres  playtime_forever  \\\n",
       "0      ['Action', 'Indie', 'Racing'], ['Racing', 'Cla...               466   \n",
       "1      ['Action'], ['FPS', 'Classic', 'Sci-fi', 'Sing...              1395   \n",
       "2      ['Action'], ['FPS', 'Classic', 'Sci-fi', 'Sing...               590   \n",
       "3      ['Action'], ['FPS', 'Classic', 'Sci-fi', 'Sing...              5599   \n",
       "4      ['Action'], ['FPS', 'Classic', 'Sci-fi', 'Sing...                64   \n",
       "...                                                  ...               ...   \n",
       "31786  ['Action'], 'FPS', 'Shooter', 'Multiplayer', '...              2416   \n",
       "31787  ['Action'], 'FPS', 'Shooter', 'Multiplayer', '...                15   \n",
       "31788  ['Action'], 'FPS', 'Shooter', 'Multiplayer', '...               442   \n",
       "31789  ['Action'], 'FPS', 'Shooter', 'Multiplayer', '...                72   \n",
       "31790  ['Action'], 'FPS', 'Shooter', 'Multiplayer', '...                62   \n",
       "\n",
       "       year  \n",
       "0      2014  \n",
       "1      2015  \n",
       "2      2011  \n",
       "3      2014  \n",
       "4      2013  \n",
       "...     ...  \n",
       "31786  2014  \n",
       "31787  2014  \n",
       "31788  2015  \n",
       "31789  2014  \n",
       "31790  2015  \n",
       "\n",
       "[31791 rows x 5 columns]"
      ]
     },
     "execution_count": 10,
     "metadata": {},
     "output_type": "execute_result"
    }
   ],
   "source": [
    "print(df_tercera_consulta.head())\n",
    "df_tercera_consulta"
   ]
  },
  {
   "cell_type": "code",
   "execution_count": 11,
   "metadata": {},
   "outputs": [],
   "source": [
    "def UserForGenre(genero: str, df_tercera_consulta):\n",
    "    # Filtrar el DataFrame por el género dado\n",
    "    filtered_df = df_tercera_consulta[df_tercera_consulta['genres'].str.contains(genero, case=False)]\n",
    "    print(\"Número de filas después de filtrar por género:\", len(filtered_df))\n",
    "    \n",
    "    # Calcular la suma de horas jugadas por usuario para el género dado\n",
    "    user_hours = filtered_df.groupby('user_id')['playtime_forever'].sum()\n",
    "    \n",
    "    # Encontrar el usuario con más horas jugadas para el género dado\n",
    "    usuario_max_horas = user_hours.idxmax()\n",
    "    print(\"Usuario con más horas jugadas para {}: {}\".format(genero, usuario_max_horas))\n",
    "    \n",
    "    # Filtrar el DataFrame para obtener solo las filas del usuario con más horas jugadas para el género dado\n",
    "    user_genre_df = filtered_df[(filtered_df['user_id'] == usuario_max_horas) & (filtered_df['genres'].str.contains(genero, case=False))]\n",
    "    \n",
    "    # Obtener las horas jugadas por año de lanzamiento para ese usuario y ese género\n",
    "    horas_por_anio = user_genre_df.groupby('year')['playtime_forever'].sum().reset_index()\n",
    "    print(\"Horas jugadas por año para {}: \".format(usuario_max_horas))\n",
    "    print(horas_por_anio)\n",
    "    \n",
    "    horas_por_anio = [{\"Año\": row['year'], \"Horas\": row['playtime_forever']} for index, row in horas_por_anio.iterrows()]\n",
    "    \n",
    "    # Retornar el resultado\n",
    "    return {\"Usuario con más horas jugadas para {}: {}\".format(genero, usuario_max_horas): usuario_max_horas,\n",
    "            \"Horas jugadas\": horas_por_anio}\n",
    "\n"
   ]
  },
  {
   "cell_type": "code",
   "execution_count": 12,
   "metadata": {},
   "outputs": [
    {
     "name": "stdout",
     "output_type": "stream",
     "text": [
      "Número de filas después de filtrar por género: 28041\n",
      "Usuario con más horas jugadas para Action: shinomegami\n",
      "Horas jugadas por año para shinomegami: \n",
      "   year  playtime_forever\n",
      "0  2012            137029\n",
      "1  2014              8392\n",
      "2  2015            530882\n",
      "{'Usuario con más horas jugadas para Action: shinomegami': 'shinomegami', 'Horas jugadas': [{'Año': 2012, 'Horas': 137029}, {'Año': 2014, 'Horas': 8392}, {'Año': 2015, 'Horas': 530882}]}\n"
     ]
    }
   ],
   "source": [
    "resultado = UserForGenre('Action', df_tercera_consulta)\n",
    "print(resultado)"
   ]
  }
 ],
 "metadata": {
  "kernelspec": {
   "display_name": "Python 3",
   "language": "python",
   "name": "python3"
  },
  "language_info": {
   "codemirror_mode": {
    "name": "ipython",
    "version": 3
   },
   "file_extension": ".py",
   "mimetype": "text/x-python",
   "name": "python",
   "nbconvert_exporter": "python",
   "pygments_lexer": "ipython3",
   "version": "3.11.9"
  }
 },
 "nbformat": 4,
 "nbformat_minor": 2
}
